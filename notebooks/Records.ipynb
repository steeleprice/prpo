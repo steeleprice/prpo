{
 "cells": [
  {
   "cell_type": "markdown",
   "metadata": {},
   "source": [
    "# Records\n",
    ""
   ]
  },
  {
   "cell_type": "code",
   "execution_count": 1,
   "metadata": {},
   "source": [
    "public record Person \n",
    "{ \n",
    "    public string FirstName { get; init; } \n",
    "    public string LastName { get; init; }\n",
    "    public Person(string firstName, string lastName) \n",
    "      => (FirstName, LastName) = (firstName, lastName);\n",
    "    public void Deconstruct(out string firstName, out string lastName) \n",
    "      => (firstName, lastName) = (FirstName, LastName);\n",
    "}"
   ],
   "outputs": []
  },
  {
   "cell_type": "code",
   "execution_count": 1,
   "metadata": {},
   "source": [
    "// This is a better alternative syntax:\n",
    "public record Person(string FirstName, string LastName);"
   ],
   "outputs": []
  },
  {
   "cell_type": "code",
   "execution_count": 1,
   "metadata": {},
   "source": [
    ""
   ],
   "outputs": []
  }
 ],
 "metadata": {
  "kernelspec": {
   "display_name": ".NET (C#)",
   "language": "C#",
   "name": ".net-csharp"
  },
  "language_info": {
   "file_extension": ".cs",
   "mimetype": "text/x-csharp",
   "name": "C#",
   "pygments_lexer": "csharp",
   "version": "8.0"
  }
 },
 "nbformat": 4,
 "nbformat_minor": 4
}