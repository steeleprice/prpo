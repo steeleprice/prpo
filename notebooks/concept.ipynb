{
 "cells": [
  {
   "cell_type": "markdown",
   "metadata": {},
   "source": [
    "# Concept\n",
    "A perspective surrounding a set of things where associationism defines representation.\n",
    "\n",
    "Those words are outside our domain of `business information`.\n",
    "\n",
    "We start in this Domain as a basis and use `continuous improvement` to further define where we are in our conceptual relationships... This is the notion of  \n",
    "\n",
    "- let's update that into terms familiar to our understanding of `business information`\n",
    "    - A [bounded context](index.md) in which [domains](../slipstream/domain.md) are related to each other through the definition of behaviors and \n",
    "\n",
    "\n",
    "\n",
    "    ## Concepts are Relationships to established Domains\n",
    "Our goal is to establish relationships between Domains\n",
    "- `Domains` must be identified.\n",
    "- `Domains` have a `Type System`.\n",
    "- `Type Systems` can be `proven` and `composed`\n",
    "- Our `Type System` is developed with [Typedefs](https://typedefs.com)\n",
    "    - Other Modules are added via Git Modules to create a `Conceptual Space`.\n",
    "- The `Bounded Context` is the Set of `Domains` in a relationship.\n",
    "- The `Ubiquitous Language` is applied inside the `Bounded Context`.\n",
    "\n",
    "### references\n",
    "[[Gardenfors, P. - Conceptual Spaces: The Geometry of Meaning]]"
   ]
  },
  {
   "cell_type": "markdown",
   "metadata": {},
   "source": [
    "Defining relationships is tedious and difficult. This process mainly breaks down as a relative distance from a prototypical concept. \n",
    "\n",
    "This is a tool, that fits into a [fractal](https://fractalfoundation.org/resources/what-are-fractals/) development pattern.\n",
    ""
   ]
  }
 ],
 "metadata": {
  "kernelspec": {
   "display_name": ".NET (C#)",
   "language": "C#",
   "name": ".net-csharp"
  },
  "language_info": {
   "file_extension": ".cs",
   "mimetype": "text/x-csharp",
   "name": "C#",
   "pygments_lexer": "csharp",
   "version": "8.0"
  }
 },
 "nbformat": 4,
 "nbformat_minor": 4
}