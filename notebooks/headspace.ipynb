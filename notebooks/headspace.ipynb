{
 "cells": [
  {
   "cell_type": "markdown",
   "metadata": {},
   "source": [
    "# Headspace\n",
    "## What are you thinking?\n",
    "\n",
    "### You are unique  \n",
    "Every interaction you have ever had forms your perception.  Let's capture some of that perception. \n",
    "\n",
    "### [Interactive Notebooks](https://github.com/dotnet/interactive) help us express what we are thinking\n",
    "We form a concrete [concept](./concept.ipynb) from a simple idea by defining boundaries, limits, shape and behavior that describes the concept."
   ]
  },
  {
   "cell_type": "markdown",
   "metadata": {},
   "source": [
    "## Patterns\n",
    "[Pattern recognition](https://en.wikipedia.org/wiki/Pattern_recognition_(psychology)) is one of humanity's most intriguing abilities.  We want to use that tremendous ability to see patterns in information and incorporate them into our designs.  These Patterns start to emerge in Domains on their own, but others, such as [Color](./color.ipynb) we already understand."
   ]
  },
  {
   "cell_type": "markdown",
   "metadata": {},
   "source": [
    "## Ideas develop into Concepts\n",
    "Ideas are great.  How do I take an idea and put it into context someone else can understand? Show your work...\n",
    "\n",
    "[Interactive Notebooks](https://github.com/dotnet/interactive) take us there and help us share the concept with others. These things aren't a joke... they are the *ENTIRE Dotnet API* available to you live, interactively.  Live, interactive Graphs already built in for you to work with."
   ]
  },
  {
   "cell_type": "markdown",
   "metadata": {},
   "source": [
    "```graphviz\n",
    "digraph Sample1 {\n",
    "       A;\n",
    "       B;\n",
    "       A -> B;\n",
    "}\n",
    "```"
   ]
  }
 ],
 "metadata": {
  "kernelspec": {
   "display_name": ".NET (C#)",
   "language": "C#",
   "name": ".net-csharp"
  },
  "language_info": {
   "file_extension": ".cs",
   "mimetype": "text/x-csharp",
   "name": "C#",
   "pygments_lexer": "csharp",
   "version": "8.0"
  }
 },
 "nbformat": 4,
 "nbformat_minor": 4
}